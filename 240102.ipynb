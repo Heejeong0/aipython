{
  "nbformat": 4,
  "nbformat_minor": 0,
  "metadata": {
    "colab": {
      "provenance": [],
      "authorship_tag": "ABX9TyN5iNevJc0OLBSywRvaIM+K",
      "include_colab_link": true
    },
    "kernelspec": {
      "name": "python3",
      "display_name": "Python 3"
    },
    "language_info": {
      "name": "python"
    }
  },
  "cells": [
    {
      "cell_type": "markdown",
      "metadata": {
        "id": "view-in-github",
        "colab_type": "text"
      },
      "source": [
        "<a href=\"https://colab.research.google.com/github/Heejeong0/aipython/blob/main/240102.ipynb\" target=\"_parent\"><img src=\"https://colab.research.google.com/assets/colab-badge.svg\" alt=\"Open In Colab\"/></a>"
      ]
    },
    {
      "cell_type": "code",
      "execution_count": null,
      "metadata": {
        "colab": {
          "base_uri": "https://localhost:8080/"
        },
        "id": "vp20ngC6B-mW",
        "outputId": "d954ea31-3863-4440-c87d-ab45d128c197"
      },
      "outputs": [
        {
          "output_type": "stream",
          "name": "stdout",
          "text": [
            "우리가 수업하는 실습실:\n",
            "105\n"
          ]
        }
      ],
      "source": [
        "#2-6\n",
        "#하나의 변수를 활용하는 코드입니다.\n",
        "Lab = 105\n",
        "print('우리가 수업하는 실습실:')\n",
        "print(Lab)"
      ]
    },
    {
      "cell_type": "code",
      "source": [
        "#2-7\n",
        "#하나의 변수를 활용하는 코드입니다.\n",
        "Lab = 105\n",
        "print('우리가 수업하는 실습실:', Lab)"
      ],
      "metadata": {
        "colab": {
          "base_uri": "https://localhost:8080/"
        },
        "id": "Yzu2hmN9CtjQ",
        "outputId": "748af1d1-873a-44ed-aa38-5f300a10c53c"
      },
      "execution_count": null,
      "outputs": [
        {
          "output_type": "stream",
          "name": "stdout",
          "text": [
            "우리가 수업하는 실습실: 105\n"
          ]
        }
      ]
    },
    {
      "cell_type": "code",
      "source": [
        "#2-8\n",
        "#변수 두 개를 생성하고 값을 할당\n",
        "my_id = 202124252\n",
        "grade =3\n",
        "\n",
        "#두개의 변수에 할당된 값을 출력\n",
        "print('나의 학번:')\n",
        "print(my_id)\n",
        "print('학년:')\n",
        "print(grade)"
      ],
      "metadata": {
        "colab": {
          "base_uri": "https://localhost:8080/"
        },
        "id": "GWZapWsbC61n",
        "outputId": "8e805889-c985-42ca-9ed3-ec65785fa4e5"
      },
      "execution_count": null,
      "outputs": [
        {
          "output_type": "stream",
          "name": "stdout",
          "text": [
            "나의 학번:\n",
            "202124252\n",
            "학년:\n",
            "3\n"
          ]
        }
      ]
    },
    {
      "cell_type": "code",
      "source": [
        "#2-9\n",
        "#변수에 값을 할당하고 출력하는 예제입니다.\n",
        "#dollar 변수에 값을 할당해봅시다.\n",
        "dollars =2.75\n",
        "print('I have', dollars , 'in my account.')\n",
        "\n",
        "#dollars 변수에 새로운 값을 할당해봅시다.\n",
        "dollars = 99.95\n",
        "print('But now I have', dollars, 'in my account!')"
      ],
      "metadata": {
        "colab": {
          "base_uri": "https://localhost:8080/"
        },
        "id": "8nWjkYfoD5bI",
        "outputId": "f2624689-85b2-4df6-e81e-8c7eb066528c"
      },
      "execution_count": null,
      "outputs": [
        {
          "output_type": "stream",
          "name": "stdout",
          "text": [
            "I have 2.75 in my account.\n",
            "But now I have 99.95 in my account!\n"
          ]
        }
      ]
    },
    {
      "cell_type": "code",
      "source": [
        "#2-10\n",
        "#두 개의 변수를 생성하고 문자열을 할당합니다.\n",
        "department ='국어국문학과'\n",
        "name = '홍길동'\n",
        "\n",
        "#각 변수에 할당된 문자열 값을 출력해보자.\n",
        "print(department, name)"
      ],
      "metadata": {
        "colab": {
          "base_uri": "https://localhost:8080/"
        },
        "id": "-P9gmZ4IEmzi",
        "outputId": "19b21f0c-a8f0-462a-9f9b-8e10b99c8ea4"
      },
      "execution_count": null,
      "outputs": [
        {
          "output_type": "stream",
          "name": "stdout",
          "text": [
            "국어국문학과 홍길동\n"
          ]
        }
      ]
    },
    {
      "cell_type": "code",
      "source": [
        "#2-11\n",
        "#학과명을 입력받습니다.\n",
        "department = input('학과명:')\n",
        "\n",
        "#여러분의 이름을 입력받습니다.\n",
        "name = input('성명:')\n",
        "\n",
        "#두 변수의 값을 출력합니다.\n",
        "print('안녕하세요', department, name)"
      ],
      "metadata": {
        "colab": {
          "base_uri": "https://localhost:8080/"
        },
        "id": "MqL3Lj43E9co",
        "outputId": "158f3ba3-7fcb-4c0e-e3ae-5e27dd2a87fe"
      },
      "execution_count": null,
      "outputs": [
        {
          "output_type": "stream",
          "name": "stdout",
          "text": [
            "학과명:전자공학과\n",
            "성명:이희정\n",
            "안녕하세요 전자공학과 이희정\n"
          ]
        }
      ]
    },
    {
      "cell_type": "code",
      "source": [
        "#2-12\n",
        "#여러분의 이름,나이,통학시간 정보를 입력받습니다\n",
        "name = input('당신의 이름은 무엇입니까?')\n",
        "age = int(input('나이는 어떻게 되시나요?'))\n",
        "attending_time = float(input('통학시간은 얼마나 걸립니까?'))\n",
        "\n",
        "#변수에 입력된 데이터를 출력해봅시다.\n",
        "print('입력정보는 다음과 같습니다.')\n",
        "print('이름:', name)\n",
        "print('나이:', age)\n",
        "print('통학시간:', attending_time)"
      ],
      "metadata": {
        "colab": {
          "base_uri": "https://localhost:8080/"
        },
        "id": "ISokPZtyFb9O",
        "outputId": "3e189948-0f71-464a-b5cc-3340ce39da2c"
      },
      "execution_count": null,
      "outputs": [
        {
          "output_type": "stream",
          "name": "stdout",
          "text": [
            "당신의 이름은 무엇입니까?이희정\n",
            "나이는 어떻게 되시나요?24\n",
            "통학시간은 얼마나 걸립니까?475\n",
            "입력정보는 다음과 같습니다.\n",
            "이름: 이희정\n",
            "나이: 24\n",
            "통학시간: 475.0 분\n"
          ]
        }
      ]
    },
    {
      "cell_type": "code",
      "source": [
        "#2-14\n",
        "#본 예제에서는 원가에 할인율을 적용하여 할인가격을 계산해보자.\n",
        "\n",
        "#original price 변수에 원가를 입력받는다.\n",
        "original_price = float(input(\"제품의 원가를 입력해 주세요: \"))\n",
        "\n",
        "#원가에 할인율 20%를 적용하여 할인가를 계산하여 discount변수에 할당한다.\n",
        "discount = original_price *0.2\n",
        "\n",
        "#원가에 할인가가 적용된 제품가격을 계산하여 sale_price변수에 할당한다.\n",
        "sale_price = original_price - discount\n",
        "\n",
        "#할인가가 적용된 제품가격을 출력한다\n",
        "print('할인가격:', sale_price)"
      ],
      "metadata": {
        "colab": {
          "base_uri": "https://localhost:8080/"
        },
        "id": "JDPmk4NJGYVo",
        "outputId": "0af5a3d8-a1a2-4ef9-c063-f046be206817"
      },
      "execution_count": null,
      "outputs": [
        {
          "output_type": "stream",
          "name": "stdout",
          "text": [
            "제품의 원가를 입력해 주세요: 100\n",
            "할인가격: 80.0\n"
          ]
        }
      ]
    },
    {
      "cell_type": "code",
      "source": [
        "#세 과목의 평가 점수를 입력받고 각 변수에 할당한다\n",
        "\n",
        "test1 =float(input('첫 번째 과목 점수를 입력해주세요:'))\n",
        "test2 =float(input('두 번째 과목 점수를 입력해주세요:'))\n",
        "test3 =float(input('세 번째 과목 점수를 입력해주세요:'))\n",
        "\n",
        "#각 과목 평균 계산 후 변수에 할당\n",
        "average = (test1 + test2 +test3)/3.0\n",
        "\n",
        "print('3과목의 평균점수:', average)"
      ],
      "metadata": {
        "colab": {
          "base_uri": "https://localhost:8080/"
        },
        "id": "Qv8y1pxCHfQW",
        "outputId": "a50e493c-8a02-41b9-ac99-79b88b46f66e"
      },
      "execution_count": null,
      "outputs": [
        {
          "output_type": "stream",
          "name": "stdout",
          "text": [
            "첫 번째 과목 점수를 입력해주세요:90\n",
            "두 번째 과목 점수를 입력해주세요:80\n",
            "세 번째 과목 점수를 입력해주세요:100\n",
            "3과목의 평균점수: 90.0\n"
          ]
        }
      ]
    },
    {
      "cell_type": "code",
      "source": [
        "#2-16\n",
        "#초를 입력받아 시분초 로 변환하는 프로그램이다.\n",
        "# 초 입력받아 변수 할당하기\n",
        "total_seconds = float(input('시간 값을 초 단위로 입력해주세요:'))\n",
        "\n",
        "#시간을 계산하여 hour변수 할당\n",
        "hours = total_seconds//3600\n",
        "\n",
        "#분을 계산\n",
        "minutes = (total_seconds//60)%60\n",
        "\n",
        "#초의 나머지 값을 계산\n",
        "seconds = total_seconds%60\n",
        "\n",
        "#시분초 출력\n",
        "print('시 분 초 는 다음과 같습니다.')\n",
        "print('시:', hours)\n",
        "print('분:', minutes)\n",
        "print('초:', seconds)"
      ],
      "metadata": {
        "colab": {
          "base_uri": "https://localhost:8080/"
        },
        "id": "3LSG1MJUIJl6",
        "outputId": "37826037-bdc6-4938-8eaf-93fdee1d1050"
      },
      "execution_count": null,
      "outputs": [
        {
          "output_type": "stream",
          "name": "stdout",
          "text": [
            "시간 값을 초 단위로 입력해주세요:11730\n",
            "시 분 초 는 다음과 같습니다.\n",
            "시: 3.0\n",
            "분: 15.0\n",
            "초: 30.0\n"
          ]
        }
      ]
    },
    {
      "cell_type": "code",
      "source": [
        "#2-17\n",
        "#목표액을 특정 이율로 얻고자 할 경우 매년 적립해야할 금액을 계산\n",
        "future_value = float(input('목표 금액을 입력해주세요:'))\n",
        "\n",
        "rate = float(input('연간 이율을 입력해 주세요:'))\n",
        "\n",
        "years = int(input('저축 기간을 연 단위로 입력해 주세요:'))\n",
        "\n",
        "present_value = future_value/ (1.0 + rate)**years\n",
        "\n",
        "print('적립금액:', present_value)"
      ],
      "metadata": {
        "colab": {
          "base_uri": "https://localhost:8080/"
        },
        "id": "gi6XUvKyJS4I",
        "outputId": "be1342cd-cd27-4cd0-f9ad-39f487e498ae"
      },
      "execution_count": null,
      "outputs": [
        {
          "output_type": "stream",
          "name": "stdout",
          "text": [
            "목표 금액을 입력해주세요:10000\n",
            "연간 이율을 입력해 주세요:0.05\n",
            "저축 기간을 연 단위로 입력해 주세요:10\n",
            "적립금액: 6139.132535407592\n"
          ]
        }
      ]
    },
    {
      "cell_type": "code",
      "source": [
        "#2-18\n",
        "#쉼표로 데이터를 구분해서 출력할때 자동적으로 분리되는 빈 칸을 sep옵션으로 제어할 수 있다\n",
        "print('a','b','c')\n",
        "print('a','b','c', sep='')\n",
        "print('a','b','c', sep='***')"
      ],
      "metadata": {
        "colab": {
          "base_uri": "https://localhost:8080/"
        },
        "id": "QdMPzkTAKKtg",
        "outputId": "d062182a-5b5c-43a0-f3d0-19c11a15ab9c"
      },
      "execution_count": null,
      "outputs": [
        {
          "output_type": "stream",
          "name": "stdout",
          "text": [
            "a b c\n",
            "abc\n",
            "a***b***c\n"
          ]
        }
      ]
    },
    {
      "cell_type": "code",
      "source": [
        "#2-19\n",
        "#print함수를 여러번 사용할 경우 자동적 줄바꿈이 일어나는데 같은줄에 print함수의 내용을 나타내고자 할 대 end옵션을 사용할 수 있다\n",
        "print('a')\n",
        "print('b')\n",
        "print('c', end='')\n",
        "print('d', end='')\n",
        "print('e', end='***')\n",
        "print('f')"
      ],
      "metadata": {
        "colab": {
          "base_uri": "https://localhost:8080/"
        },
        "id": "DmEVPxTgKodJ",
        "outputId": "36b9fba8-4fae-4cdd-d3da-5e936ee6ec00"
      },
      "execution_count": null,
      "outputs": [
        {
          "output_type": "stream",
          "name": "stdout",
          "text": [
            "a\n",
            "b\n",
            "cde***f\n"
          ]
        }
      ]
    },
    {
      "cell_type": "code",
      "source": [],
      "metadata": {
        "id": "-OEKksZ1LCZm"
      },
      "execution_count": null,
      "outputs": []
    }
  ]
}
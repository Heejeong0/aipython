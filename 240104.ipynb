{
  "nbformat": 4,
  "nbformat_minor": 0,
  "metadata": {
    "colab": {
      "provenance": [],
      "authorship_tag": "ABX9TyO3/+jZC8qnBYC4eZdFQLzh",
      "include_colab_link": true
    },
    "kernelspec": {
      "name": "python3",
      "display_name": "Python 3"
    },
    "language_info": {
      "name": "python"
    }
  },
  "cells": [
    {
      "cell_type": "markdown",
      "metadata": {
        "id": "view-in-github",
        "colab_type": "text"
      },
      "source": [
        "<a href=\"https://colab.research.google.com/github/Heejeong0/aipython/blob/main/240104.ipynb\" target=\"_parent\"><img src=\"https://colab.research.google.com/assets/colab-badge.svg\" alt=\"Open In Colab\"/></a>"
      ]
    },
    {
      "cell_type": "code",
      "execution_count": 4,
      "metadata": {
        "colab": {
          "base_uri": "https://localhost:8080/"
        },
        "id": "3di2VRsjhF4E",
        "outputId": "b4e33dce-a039-4581-fe9f-1cf8c89725b3"
      },
      "outputs": [
        {
          "output_type": "stream",
          "name": "stdout",
          "text": [
            "학생의 점수를 입력하세요:90\n",
            "학생의 점수를 입력하세요:70\n",
            "학생의 점수를 입력하세요:30\n",
            "학생의 점수를 입력하세요:t\n",
            "입력 데이터 출력 : [90, 70, 30]\n",
            "합계 : 190\n",
            "인원수 : 3\n",
            "평균 : 63.333\n"
          ]
        }
      ],
      "source": [
        "score=[]\n",
        "\n",
        "i=0\n",
        "while True:\n",
        "    user_input =(input(\"학생의 점수를 입력하세요:\"))\n",
        "\n",
        "    if user_input.isdigit():\n",
        "        score.append(int(user_input))\n",
        "    else:\n",
        "        break\n",
        "\n",
        "\n",
        "\n",
        "print(\"입력 데이터 출력 :\" , end=' ')\n",
        "print(score)\n",
        "print(\"합계 :\", sum(score))\n",
        "print(\"인원수 :\", len(score))\n",
        "print(\"평균 : %.3f\" %(sum(score)/3.0) )"
      ]
    }
  ]
}